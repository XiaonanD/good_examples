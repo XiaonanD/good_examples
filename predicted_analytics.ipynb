{
 "cells": [
  {
   "cell_type": "code",
   "execution_count": 1,
   "metadata": {
    "collapsed": true
   },
   "outputs": [],
   "source": [
    "import matplotlib.pyplot as plt\n",
    "import numpy as np\n",
    "import pandas as pd"
   ]
  },
  {
   "cell_type": "markdown",
   "metadata": {},
   "source": [
    "https://www.datacamp.com/courses/foundations-of-predictive-analytics-in-python-part-1"
   ]
  },
  {
   "cell_type": "markdown",
   "metadata": {},
   "source": [
    "> ### part 1. Forward stepwise variable selection\n",
    "\n",
    " - Empty set\n",
    " - Find best variable v_1v\n",
    " - Find best variable v_2v in combination with v_1v\n",
    " - Find best variable v_3v in combination with v_1, v_2v\n",
    " - ...\n",
    "\n",
    "(Until all variables are added or until predefined number of variables is added)\n"
   ]
  },
  {
   "cell_type": "code",
   "execution_count": 2,
   "metadata": {},
   "outputs": [
    {
     "data": {
      "text/html": [
       "<div>\n",
       "<style scoped>\n",
       "    .dataframe tbody tr th:only-of-type {\n",
       "        vertical-align: middle;\n",
       "    }\n",
       "\n",
       "    .dataframe tbody tr th {\n",
       "        vertical-align: top;\n",
       "    }\n",
       "\n",
       "    .dataframe thead th {\n",
       "        text-align: right;\n",
       "    }\n",
       "</style>\n",
       "<table border=\"1\" class=\"dataframe\">\n",
       "  <thead>\n",
       "    <tr style=\"text-align: right;\">\n",
       "      <th></th>\n",
       "      <th>target</th>\n",
       "      <th>gender_F</th>\n",
       "      <th>income_high</th>\n",
       "      <th>income_low</th>\n",
       "      <th>country_USA</th>\n",
       "      <th>country_India</th>\n",
       "      <th>country_UK</th>\n",
       "      <th>age</th>\n",
       "      <th>time_since_last_gift</th>\n",
       "      <th>time_since_first_gift</th>\n",
       "      <th>max_gift</th>\n",
       "      <th>min_gift</th>\n",
       "      <th>mean_gift</th>\n",
       "      <th>number_gift</th>\n",
       "    </tr>\n",
       "  </thead>\n",
       "  <tbody>\n",
       "    <tr>\n",
       "      <th>0</th>\n",
       "      <td>0</td>\n",
       "      <td>1</td>\n",
       "      <td>0</td>\n",
       "      <td>1</td>\n",
       "      <td>0</td>\n",
       "      <td>1</td>\n",
       "      <td>0</td>\n",
       "      <td>65</td>\n",
       "      <td>530</td>\n",
       "      <td>2265</td>\n",
       "      <td>166.0</td>\n",
       "      <td>87.0</td>\n",
       "      <td>116.0</td>\n",
       "      <td>7</td>\n",
       "    </tr>\n",
       "    <tr>\n",
       "      <th>1</th>\n",
       "      <td>0</td>\n",
       "      <td>1</td>\n",
       "      <td>0</td>\n",
       "      <td>0</td>\n",
       "      <td>0</td>\n",
       "      <td>1</td>\n",
       "      <td>0</td>\n",
       "      <td>71</td>\n",
       "      <td>715</td>\n",
       "      <td>715</td>\n",
       "      <td>90.0</td>\n",
       "      <td>90.0</td>\n",
       "      <td>90.0</td>\n",
       "      <td>1</td>\n",
       "    </tr>\n",
       "    <tr>\n",
       "      <th>2</th>\n",
       "      <td>0</td>\n",
       "      <td>1</td>\n",
       "      <td>0</td>\n",
       "      <td>0</td>\n",
       "      <td>0</td>\n",
       "      <td>1</td>\n",
       "      <td>0</td>\n",
       "      <td>28</td>\n",
       "      <td>150</td>\n",
       "      <td>1806</td>\n",
       "      <td>125.0</td>\n",
       "      <td>74.0</td>\n",
       "      <td>96.0</td>\n",
       "      <td>9</td>\n",
       "    </tr>\n",
       "  </tbody>\n",
       "</table>\n",
       "</div>"
      ],
      "text/plain": [
       "   target  gender_F  income_high  income_low  country_USA  country_India  \\\n",
       "0       0         1            0           1            0              1   \n",
       "1       0         1            0           0            0              1   \n",
       "2       0         1            0           0            0              1   \n",
       "\n",
       "   country_UK  age  time_since_last_gift  time_since_first_gift  max_gift  \\\n",
       "0           0   65                   530                   2265     166.0   \n",
       "1           0   71                   715                    715      90.0   \n",
       "2           0   28                   150                   1806     125.0   \n",
       "\n",
       "   min_gift  mean_gift  number_gift  \n",
       "0      87.0      116.0            7  \n",
       "1      90.0       90.0            1  \n",
       "2      74.0       96.0            9  "
      ]
     },
     "execution_count": 2,
     "metadata": {},
     "output_type": "execute_result"
    }
   ],
   "source": [
    "url = 'https://assets.datacamp.com/production/repositories/1441/datasets/7abb677ec52631679b467c90f3b649eb4f8c00b2/basetable_ex2_4.csv'\n",
    "data = pd.read_csv(url)\n",
    "data.head(3)"
   ]
  },
  {
   "cell_type": "code",
   "execution_count": 21,
   "metadata": {},
   "outputs": [
    {
     "name": "stderr",
     "output_type": "stream",
     "text": [
      "/Users/xduan/anaconda2/lib/python2.7/site-packages/sklearn/cross_validation.py:41: DeprecationWarning: This module was deprecated in version 0.18 in favor of the model_selection module into which all the refactored classes and functions are moved. Also note that the interface of the new CV iterators are different from that of this module. This module will be removed in 0.20.\n",
      "  \"This module will be removed in 0.20.\", DeprecationWarning)\n"
     ]
    }
   ],
   "source": [
    "# Load the partitioning module\n",
    "from sklearn.cross_validation import train_test_split\n",
    "\n",
    "# Create dataframes with variables and target\n",
    "X = data.drop(\"target\", 1)\n",
    "y = data[\"target\"]\n",
    "\n",
    "# Carry out  partititioning with stratification\n",
    "X_train, X_test, y_train, y_test = train_test_split(X, y, test_size = 0.3, stratify = y)\n",
    "\n",
    "# Create the final train and test basetables\n",
    "train = pd.concat([X_train, y_train], axis=1)\n",
    "test = pd.concat([X_test, y_test], axis=1)\n"
   ]
  },
  {
   "cell_type": "code",
   "execution_count": 39,
   "metadata": {},
   "outputs": [
    {
     "name": "stdout",
     "output_type": "stream",
     "text": [
      "['max_gift', 'number_gift', 'mean_gift', 'time_since_last_gift', 'income_high', 'age', 'country_India', 'country_UK', 'country_USA', 'min_gift', 'income_low', 'time_since_first_gift', 'gender_F']\n"
     ]
    }
   ],
   "source": [
    "from sklearn.linear_model import LogisticRegression\n",
    "from sklearn.metrics import roc_auc_score\n",
    "\n",
    "\"\"\"\n",
    "function auc is to train on train data and evaluate on test data of metric auc, which returns test_auc\n",
    "\n",
    "varialbes: are features that are going to fit into model\n",
    "target: prediction\n",
    "train: X_train + y_train\n",
    "test: X_test + y_test\n",
    "\"\"\"\n",
    "def auc(variables, target, train, test):\n",
    "    logreg = LogisticRegression()\n",
    "    X_train, X_test = train[variables], test[variables]\n",
    "    y_train, y_test = train[target], test[target]\n",
    "    logreg.fit(X_train, y_train)\n",
    "    y_pred = logreg.predict_proba(X_test)[:,1]\n",
    "    auc = roc_auc_score(y_test, y_pred)\n",
    "    return(auc)\n",
    "\n",
    "\"\"\"\n",
    "function next_best is to get the best variable to improve auc score after one loop\n",
    "\"\"\"\n",
    "def next_best(current_variables,candidate_variables, target, train, test):\n",
    "    best_auc = -1\n",
    "    best_variable = None\n",
    "    for v in candidate_variables:\n",
    "        auc_v = auc(current_variables + [v], target, train, test)\n",
    "        if auc_v >= best_auc:\n",
    "            best_auc = auc_v\n",
    "            best_variable = v\n",
    "    return best_variable, best_auc\n",
    "\n",
    "\n",
    "# candidate_variables = [\"mean_gift\",\"min_gift\",\"max_gift\",\"age\",\"gender_F\",\"country_USA\",\"income_low\"]\n",
    "candidate_variables = [\n",
    " 'gender_F',\n",
    " 'income_high',\n",
    " 'income_low',\n",
    " 'country_USA',\n",
    " 'country_India',\n",
    " 'country_UK',\n",
    " 'age',\n",
    " 'time_since_last_gift',\n",
    " 'time_since_first_gift',\n",
    " 'max_gift',\n",
    " 'min_gift',\n",
    " 'mean_gift',\n",
    " 'number_gift']\n",
    "current_variables = []\n",
    "target = [\"target\"]\n",
    "auc_test_curve = []\n",
    "\n",
    "max_number_variables = 100\n",
    "number_iterations = min(max_number_variables, len(candidate_variables))\n",
    "\n",
    "for i in range(0,number_iterations):\n",
    "    next_variable, next_auc = next_best(current_variables,candidate_variables,target,train, test)\n",
    "    current_variables = current_variables + [next_variable]\n",
    "    candidate_variables.remove(next_variable)\n",
    "    auc_test_curve.append(next_auc)\n",
    "#     print(\"Variable added in step \" + str(i+1)  + \" is \" + next_variable + \".\")\n",
    "\n",
    "print(current_variables)\n",
    "# candidate_variables = [\"mean_gift\",\"min_gift\",\"max_gift\",\"age\",\"gender_F\",\"country_USA\",\"income_low\"]\n",
    "# current_variables top 5: ['max_gift', 'age', 'mean_gift', 'min_gift', 'country_USA']\n",
    "\n"
   ]
  },
  {
   "cell_type": "code",
   "execution_count": 47,
   "metadata": {},
   "outputs": [
    {
     "data": {
      "image/png": "[encoded data removed]",
      "text/plain": [
       "<matplotlib.figure.Figure at 0x1a26499750>"
      ]
     },
     "metadata": {},
     "output_type": "display_data"
    }
   ],
   "source": [
    "x = np.array(range(0,len(current_variables)))\n",
    "y_plot = np.array(auc_test_curve)\n",
    "plt.xticks(x, current_variables, rotation = 90)\n",
    "plt.plot(x,y_plot)\n",
    "plt.title('validation')\n",
    "plt.xlabel('features')\n",
    "plt.ylabel('auc test score')\n",
    "plt.ylim((0.685, 0.77))\n",
    "plt.grid()\n",
    "plt.show()\n"
   ]
  },
  {
   "cell_type": "code",
   "execution_count": null,
   "metadata": {
    "collapsed": true
   },
   "outputs": [],
   "source": [
    "\n",
    "# Keep track of train and test AUC values\n",
    "auc_values_train = []\n",
    "auc_values_test = []\n",
    "variables_evaluate = []\n",
    "\n",
    "# Iterate over the variables in variables\n",
    "for v in variables:\n",
    "  \n",
    "    # Add the variable\n",
    "    variables_evaluate.append(v)\n",
    "    \n",
    "    # Calculate the train and test AUC of this set of variables\n",
    "    auc_train, auc_test = auc_train_test(variables_evaluate, [\"target\"], train, test)\n",
    "    \n",
    "    # Append the values to the lists\n",
    "    auc_values_train.append(auc_train)\n",
    "    auc_values_test.append(auc_test)\n",
    "    \n",
    "# Make plot of the AUC values\n",
    "\n",
    "x = np.array(range(0,len(auc_values_train)))\n",
    "y_train = np.array(auc_values_train)\n",
    "y_test = np.array(auc_values_test)\n",
    "plt.xticks(x, variables, rotation = 90)\n",
    "plt.plot(x,y_train)\n",
    "plt.plot(x,y_test)\n",
    "plt.ylim((0.6, 0.8))\n",
    "plt.show()"
   ]
  },
  {
   "cell_type": "code",
   "execution_count": null,
   "metadata": {
    "collapsed": true
   },
   "outputs": [],
   "source": []
  },
  {
   "cell_type": "code",
   "execution_count": 17,
   "metadata": {},
   "outputs": [
    {
     "name": "stdout",
     "output_type": "stream",
     "text": [
      "Variable added in step 1 is max_gift.\n",
      "Variable added in step 2 is age.\n",
      "Variable added in step 3 is mean_gift.\n",
      "Variable added in step 4 is min_gift.\n",
      "Variable added in step 5 is country_USA.\n",
      "['max_gift', 'age', 'mean_gift', 'min_gift', 'country_USA']\n"
     ]
    },
    {
     "data": {
      "image/png": "[encoded data removed]",
      "text/plain": [
       "<matplotlib.figure.Figure at 0x10dc0b9d0>"
      ]
     },
     "metadata": {},
     "output_type": "display_data"
    }
   ],
   "source": [
    "from sklearn import linear_model\n",
    "from sklearn.metrics import roc_auc_score\n",
    "\n",
    "def auc(variables, target, basetable):\n",
    "    X = basetable[variables]\n",
    "    y = basetable[target]\n",
    "    logreg = linear_model.LogisticRegression()\n",
    "    logreg.fit(X, y)\n",
    "    predictions = logreg.predict_proba(X)[:,1]\n",
    "    auc = roc_auc_score(y, predictions)\n",
    "    return(auc)\n",
    "\n",
    "def next_best(current_variables,candidate_variables, target, basetable):\n",
    "    best_auc = -1\n",
    "    best_variable = None\n",
    "    for v in candidate_variables:\n",
    "        auc_v = auc(current_variables + [v], target, basetable)\n",
    "        if auc_v >= best_auc:\n",
    "            best_auc = auc_v\n",
    "            best_variable = v\n",
    "    return best_variable, best_auc\n",
    "\n",
    "# ### for only select one (best one) feature ###\n",
    "# current_variables = [\"age\",\"gender_F\"]\n",
    "# candidate_variables = [\"min_gift\",\"max_gift\",\"mean_gift\"]\n",
    "# next_variable = next_best(current_variables, candidate_variables, basetable)\n",
    "# print(next_variable) # \"min_gift\"\n",
    "\n",
    "\n",
    "\n",
    "candidate_variables = [\"mean_gift\",\"min_gift\",\"max_gift\",\n",
    "\"age\",\"gender_F\",\"country_USA\",\"income_low\"]\n",
    "current_variables = []\n",
    "target = [\"target\"]\n",
    "auc_train_curve = []\n",
    "\n",
    "max_number_variables = 5\n",
    "number_iterations = min(max_number_variables, len(candidate_variables))\n",
    "for i in range(0,number_iterations):\n",
    "    next_variable, next_auc = next_best(current_variables,candidate_variables,target,data)\n",
    "    current_variables = current_variables + [next_variable]\n",
    "    candidate_variables.remove(next_variable)\n",
    "    auc_train_curve.append(next_auc)\n",
    "    print(\"Variable added in step \" + str(i+1)  + \" is \" + next_variable + \".\")\n",
    "print(current_variables)\n",
    "#['max_gift', 'mean_gift', 'min_gift', 'age', 'gender_F']\n",
    "\n",
    "\n",
    "x = np.array(range(0,len(current_variables)))\n",
    "y_plot = np.array(auc_train_curve)\n",
    "plt.xticks(x, current_variables, rotation = 45)\n",
    "plt.plot(x,y_plot)\n",
    "plt.title('this is use all data for training, no validation set')\n",
    "plt.xlabel('features')\n",
    "plt.ylabel('auc score')\n",
    "plt.ylim((0.69, 0.73))\n",
    "plt.show()"
   ]
  },
  {
   "cell_type": "markdown",
   "metadata": {},
   "source": [
    "> ### part 2. The cumulative gains curve\n"
   ]
  },
  {
   "cell_type": "code",
   "execution_count": 56,
   "metadata": {},
   "outputs": [
    {
     "data": {
      "text/html": [
       "### cumulative\n",
       "<img src = 'cumulative_gain.png', width = 400, height = 500>"
      ],
      "text/plain": [
       "<IPython.core.display.HTML object>"
      ]
     },
     "metadata": {},
     "output_type": "display_data"
    }
   ],
   "source": [
    "%%html\n",
    "### cumulative\n",
    "<img src = 'cumulative_gain.png', width = 400, height = 500>"
   ]
  },
  {
   "cell_type": "code",
   "execution_count": 52,
   "metadata": {},
   "outputs": [
    {
     "data": {
      "image/png": "[encoded data removed]",
      "text/plain": [
       "<matplotlib.figure.Figure at 0x1a269ff550>"
      ]
     },
     "metadata": {},
     "output_type": "display_data"
    }
   ],
   "source": [
    "import scikitplot as skplt\n",
    "from sklearn.linear_model import LogisticRegression\n",
    "# Load the partitioning module\n",
    "from sklearn.cross_validation import train_test_split\n",
    "\n",
    "# Create dataframes with variables and target\n",
    "X = data.drop(\"target\", 1)\n",
    "y = data[\"target\"]\n",
    "\n",
    "# Carry out  partititioning with stratification\n",
    "X_train, X_test, y_train, y_test = train_test_split(X, y, test_size = 0.3, stratify = y)\n",
    "\n",
    "logreg = LogisticRegression()\n",
    "logreg.fit(X_train, y_train)\n",
    "y_pred_probablity = logreg.predict_proba(X_test)\n",
    "\n",
    "skplt.metrics.plot_cumulative_gain(y_test, y_pred_probablity)\n",
    "plt.show()"
   ]
  },
  {
   "cell_type": "code",
   "execution_count": 55,
   "metadata": {},
   "outputs": [
    {
     "data": {
      "image/png": "[encoded data removed]",
      "text/plain": [
       "<matplotlib.figure.Figure at 0x1a269af450>"
      ]
     },
     "metadata": {},
     "output_type": "display_data"
    }
   ],
   "source": [
    "\"\"\"\n",
    "random model's performance\n",
    "\"\"\"\n",
    "\n",
    "# Import the modules\n",
    "import random\n",
    "import matplotlib.pyplot as plt\n",
    "import scikitplot as skplt\n",
    "\n",
    "# Generate random predictions\n",
    "random_predictions = [random.uniform(0,1) for _ in range(len(y_test))]\n",
    "\n",
    "# Adjust random predictions\n",
    "random_predictions = [(r, 1- r) for r in random_predictions]\n",
    "\n",
    "# Plot the cumulative gains graph\n",
    "skplt.metrics.plot_cumulative_gain(y_test, random_predictions)\n",
    "plt.show()"
   ]
  },
  {
   "cell_type": "markdown",
   "metadata": {},
   "source": [
    "** - use of cumulative gains - **\n",
    "  - Campaign selection: how many people you want to target to make a certain profit for a donotion campaign. \n",
    "  - example: 1 million users with 2% of target. But you don't want to send emails to all, since you don't want to bother donors who are not interested in donating this campaign.\n"
   ]
  },
  {
   "cell_type": "code",
   "execution_count": null,
   "metadata": {
    "collapsed": true
   },
   "outputs": [],
   "source": [
    " \"\"\"\n",
    "  # Information about the campaign\n",
    "population_size = 1000000\n",
    "target_incidence = 0.02\n",
    "# Number of targets you want to reach\n",
    "number_targets_toreach = 16000\n",
    "perc_targets = number_targets_toreach/(target_incidence*population_size)\n",
    "print(perc_targets_toreach)\n",
    "0.8\n",
    "cumulative_gains = 0.60\n",
    "# Number of donors to reach\n",
    "number_donors_toreach = cumulative_gains*population_size\n",
    "print(number_donors_toreach)\n",
    "600 000 \n",
    " \n",
    " \"\"\"\n"
   ]
  },
  {
   "cell_type": "code",
   "execution_count": 7,
   "metadata": {},
   "outputs": [
    {
     "data": {
      "text/html": [
       "### lift model: lift curve shows how many times more than average the model reaches targets when a given percentage of the population that is most likely to be target according to the model is considered.\n",
       "<img src = 'lift_curve.png', width = 400, height = 500>"
      ],
      "text/plain": [
       "<IPython.core.display.HTML object>"
      ]
     },
     "metadata": {},
     "output_type": "display_data"
    }
   ],
   "source": [
    "%%html\n",
    "### lift model: lift curve shows how many times more than average the model reaches targets when a given percentage of the population that is most likely to be target according to the model is considered.\n",
    "<img src = 'lift_curve.png', width = 400, height = 500>"
   ]
  },
  {
   "cell_type": "code",
   "execution_count": 5,
   "metadata": {},
   "outputs": [
    {
     "data": {
      "image/png": "[encoded data removed]",
      "text/plain": [
       "<matplotlib.figure.Figure at 0x10fd8e4d0>"
      ]
     },
     "metadata": {},
     "output_type": "display_data"
    }
   ],
   "source": [
    "import scikitplot as skplt\n",
    "from sklearn.linear_model import LogisticRegression\n",
    "# Load the partitioning module\n",
    "from sklearn.cross_validation import train_test_split\n",
    "\n",
    "# Create dataframes with variables and target\n",
    "X = data.drop(\"target\", 1)\n",
    "y = data[\"target\"]\n",
    "\n",
    "# Carry out  partititioning with stratification\n",
    "X_train, X_test, y_train, y_test = train_test_split(X, y, test_size = 0.3, stratify = y)\n",
    "\n",
    "logreg = LogisticRegression()\n",
    "logreg.fit(X_train, y_train)\n",
    "y_pred_probablity = logreg.predict_proba(X_test)\n",
    "\n",
    "skplt.metrics.plot_lift_curve(y_test, y_pred_probablity)\n",
    "# plt.xlim([0.0,1.0])\n",
    "plt.show()"
   ]
  },
  {
   "cell_type": "code",
   "execution_count": 9,
   "metadata": {},
   "outputs": [
    {
     "data": {
      "image/png": "[encoded data removed]",
      "text/plain": [
       "<matplotlib.figure.Figure at 0x1a1cf3edd0>"
      ]
     },
     "metadata": {},
     "output_type": "display_data"
    }
   ],
   "source": [
    "# Generate perfect predictions\n",
    "\"\"\"\n",
    "You can observe that the lift is first 20, which is normal as there are 5% targets: you can only have 20 times more than average targets. \n",
    "After that the lift gradually decreases because there are no targets to add anymore.\n",
    "\"\"\"\n",
    "perfect_predictions = [(1-target , target) for target in y_test]\n",
    "\n",
    "# Plot the lift curve\n",
    "skplt.metrics.plot_lift_curve(y_test, perfect_predictions)\n",
    "plt.title('perfect model''s lift plot')\n",
    "plt.show()"
   ]
  },
  {
   "cell_type": "markdown",
   "metadata": {},
   "source": [
    "- ** Estimating profit using lift **"
   ]
  },
  {
   "cell_type": "markdown",
   "metadata": {},
   "source": [
    "- perc_targets is the percentage of targets in the group that you select for your campaign,\n",
    "- perc_selected the percentage of people that is selected for the campaign,\n",
    "- population_size the total population size,\n",
    "- campaign_cost the cost of addressing a single person for the campaign, \n",
    "- campaign_reward the reward of addressing a target."
   ]
  },
  {
   "cell_type": "code",
   "execution_count": 20,
   "metadata": {},
   "outputs": [
    {
     "name": "stdout",
     "output_type": "stream",
     "text": [
      "0.0\n",
      "20000.0\n"
     ]
    }
   ],
   "source": [
    "def profit(perc_targets, perc_selected, population_size,reward_target, cost_campaign):\n",
    "    cost = cost_campaign * perc_selected * population_size\n",
    "    reward = reward_target * perc_targets  * population_size * perc_selected\n",
    "    return(reward - cost)\n",
    "\n",
    "# Read the lift at 40% (round it up to the upper tenth)\n",
    "perc_selected = 0.4\n",
    "lift = 1.5\n",
    "\n",
    "# Information about the campaign\n",
    "population_size, target_incidence, campaign_cost, campaign_reward = 100000, 0.01, 1, 100\n",
    "    \n",
    "# Profit if all donors are targeted\n",
    "profit_all = profit(target_incidence, 1, population_size, campaign_reward,campaign_cost)\n",
    "print(profit_all) # 0 \n",
    "\n",
    "# Profit if top 40% of donors are targeted\n",
    "profit_40 = profit(target_incidence * lift, 0.4, population_size,  campaign_reward,campaign_cost)\n",
    "print(profit_40) # 20000"
   ]
  },
  {
   "cell_type": "markdown",
   "metadata": {},
   "source": [
    "> ### part 3. Interpreting and explaining models\n",
    "\n"
   ]
  },
  {
   "cell_type": "markdown",
   "metadata": {},
   "source": [
    "> ##### discrete continuous variables to insight\n",
    "   - Which variables should be discretized\n",
    "   - methods: ** pd.qcut and pd.cut ** use pd.qcut to get an idea and finally use pd.cut to make a clean ordered cut.\n"
   ]
  },
  {
   "cell_type": "code",
   "execution_count": 2,
   "metadata": {
    "collapsed": true
   },
   "outputs": [],
   "source": [
    "\"\"\"\n",
    "convert continuous features to categorical ones\n",
    "\"\"\"\n",
    "basetable[\"disc_age\"] = pd.qcut(basetable[\"age\"], 5)\n",
    "basetable[\"disc_age\"].unique()\n",
    "#[(38, 49], (68, 110], [19, 38], (49, 59], (59, 68]]  # not orderedly display\n",
    "\n",
    "\n",
    "basetable[\"disc_age\"] = pd.cut(basetable[\"age\"],[18,30,40,50,60,110])\n",
    "basetable.groupby(\"disc_age\").size()\n",
    "\n",
    "bins = [18,30,40,50,60,110]\n",
    "labels = [1,2,3,4,5]\n",
    "df['binned'] = pd.cut(df['percentage'], bins=bins, labels=labels)\n",
    "\n",
    "# disc_age\n",
    "# (18, 30]     10017\n",
    "# (30, 40]     14448\n",
    "# (40, 50]     19002\n",
    "# (50, 60]     24684\n",
    "# (60, 110]    31849"
   ]
  },
  {
   "cell_type": "code",
   "execution_count": null,
   "metadata": {
    "collapsed": true
   },
   "outputs": [],
   "source": [
    "\"\"\"\n",
    "discretize them automatically. \n",
    "\"\"\"\n",
    "# Get all the variable names except \"target\"\n",
    "variables = list(basetable.columns)\n",
    "variables.remove(\"target\")\n",
    "\n",
    "# Loop through all the variables and discretize in 10 bins if there are more than 5 different values\n",
    "for variable in variables:\n",
    "    if len(basetable.groupby(variable))>5:\n",
    "        new_variable = \"disc_\" + variable\n",
    "        basetable[new_variable] = pd.qcut(basetable[variable], 10)\n",
    "        \n",
    "# Print the columns in the new basetable\n",
    "print(basetable.columns)"
   ]
  },
  {
   "cell_type": "markdown",
   "metadata": {},
   "source": [
    "> ###### predictor insight graphs\n",
    "   - For each value the predictor takes, it has the number of observations with this value and the target incidence within this group. \n",
    "    \n"
   ]
  },
  {
   "cell_type": "code",
   "execution_count": 4,
   "metadata": {
    "collapsed": true
   },
   "outputs": [],
   "source": [
    "\"\"\"\n",
    "Make a predictor insight graph\n",
    "\"\"\"\n",
    "import numpy as np\n",
    "# Function that calculates the predictor insight graph table\n",
    "def create_pig_table(df, target, variable):\n",
    "    # Group by the variable you want to plot\n",
    "    groups = df[[target,variable]].groupby(variable)\n",
    "    # Calculate the size and incidence of each group\n",
    "    pig_table = groups[target].agg(\n",
    "             {'Incidence' : np.mean, \\\n",
    "              'Size' : np.size}).reset_index()\n",
    "    return pig_table"
   ]
  },
  {
   "cell_type": "code",
   "execution_count": null,
   "metadata": {
    "collapsed": true
   },
   "outputs": [],
   "source": [
    "\"\"\"\n",
    "Grouping all predictor insight graph tables\n",
    "\"\"\"\n",
    "\n",
    "# Create the list of variables for our predictor insight graph tables\n",
    "variables = [\"income\",\"gender\",\"disc_mean_gift\",\"disc_time_since_last_gift\"]\n",
    "\n",
    "# Create an empty dictionary\n",
    "pig_tables = {}\n",
    "\n",
    "# Loop through the variables\n",
    "for variable in variables:\n",
    "  \n",
    "    # Create a predictor insight graph table\n",
    "    pig_table = create_pig_table(basetable, 'target', variable)\n",
    "    \n",
    "    # Add the table to the dictionary\n",
    "    pig_tables[variable] = pig_table\n",
    "\n",
    "# Print the predictor insight graph table of the variable \"disc_time_since_last_gift\"\n",
    "print(pig_tables[\"disc_time_since_last_gift\"])"
   ]
  },
  {
   "cell_type": "markdown",
   "metadata": {},
   "source": [
    "- show insight graph"
   ]
  },
  {
   "cell_type": "code",
   "execution_count": null,
   "metadata": {
    "collapsed": true
   },
   "outputs": [],
   "source": [
    "import matplotlib.pyplot as plt\n",
    "import numpy as np\n",
    "\n",
    "# # The function to plot a predictor insight graph.\n",
    "# def plot_incidence(pig_table,variable):\n",
    "    \n",
    "#     # Plot the incidence line\n",
    "#     pig_table[\"Incidence\"].plot()\n",
    "    \n",
    "#     # Formatting the predictor insight graph\n",
    "#     plt.xticks(np.arange(len(pig_table)), pig_table[variable])\n",
    "#     plt.xlim([-0.5, len(pig_table) - 0.5])\n",
    "#     plt.ylim([0, max(pig_table[\"Incidence\"] * 2)])\n",
    "#     plt.ylabel(\"Incidence\", rotation=0, rotation_mode=\"anchor\", ha=\"right\")\n",
    "#     plt.xlabel(variable)\n",
    "    \n",
    "#     # Show the graph\n",
    "#     plt.show()\n",
    "\n",
    "# The function to plot a predictor insight graph\n",
    "def plot_pig(pig_table, variable):\n",
    "    \n",
    "    # Plot formatting\n",
    "    plt.ylabel(\"Size\", rotation=0, rotation_mode=\"anchor\", ha=\"right\") ## to make the label horizontally\n",
    "    \n",
    "    # Plot the bars with sizes \n",
    "    pig_table[\"Size\"].plot(kind=\"bar\", width=0.5, color=\"lightgray\", edgecolor=\"none\") \n",
    "    \n",
    "    # Plot the incidence line on secondary axis\n",
    "    pig_table[\"Incidence\"].plot(secondary_y=True)\n",
    "    \n",
    "    # Plot formatting\n",
    "    plt.xticks(np.arange(len(pig_table)), pig_table[variable])\n",
    "    plt.xlim([-0.5, len(pig_table) - 0.5])\n",
    "    plt.ylabel(\"Incidence\", rotation=0, rotation_mode=\"anchor\", ha=\"left\")\n",
    "    \n",
    "    # Show the graph\n",
    "    plt.show()\n",
    "\n",
    "# Apply the function for the variable \"country\"\n",
    "plot_pig(pig_table, \"country\")\n",
    "\n",
    "# Variables you want to make predictor insight graph tables for\n",
    "variables = [\"income\",\"gender\",\"disc_mean_gift\",\"disc_time_since_last_gift\"]\n",
    "\n",
    "# Loop through the variables\n",
    "for variable in variables: \n",
    "    \n",
    "    # Create the predictor insight graph table\n",
    "    pig_table = create_pig_table(basetable, \"target\", variable)\n",
    "    \n",
    "    # Plot the predictor insight graph\n",
    "    plot_pig(pig_table, variable)"
   ]
  },
  {
   "cell_type": "code",
   "execution_count": null,
   "metadata": {
    "collapsed": true
   },
   "outputs": [],
   "source": []
  },
  {
   "cell_type": "markdown",
   "metadata": {},
   "source": [
    "> ### np.where"
   ]
  },
  {
   "cell_type": "code",
   "execution_count": null,
   "metadata": {
    "collapsed": true
   },
   "outputs": [],
   "source": [
    "basetable[\"no_donations\"] = pd.Series([1 if b else 0 for b in basetable[\"total_donations\"].isna()])"
   ]
  },
  {
   "cell_type": "code",
   "execution_count": null,
   "metadata": {
    "collapsed": true
   },
   "outputs": [],
   "source": [
    "purchase_data.price = np.where(np.isnan(purchase_data.price), 0, purchase_data.price)\n",
    "\n",
    "sub_time = np.where(conv_sub_data.subscription_date.notnull(),(conv_sub_data.subscription_date -conv_sub_data.lapse_date).dt.days,\n",
    "pd.NaT)\n",
    "\n"
   ]
  },
  {
   "cell_type": "markdown",
   "metadata": {},
   "source": [
    "> ### filter data"
   ]
  },
  {
   "cell_type": "code",
   "execution_count": null,
   "metadata": {
    "collapsed": true
   },
   "outputs": [],
   "source": [
    "# We need data only for 'San Francisco'\n",
    "\n",
    "# Matching with the string 'francisco' case insensitive which will get us the best mathes\n",
    "relevant_index = sf_bus['City'].str.contains('francisco', case = False)\n",
    "\n",
    "# Handling NA matches as False\n",
    "relevant_index[relevant_index.isnull()] = False\n",
    "\n",
    "# Filtering and storing data based on the index we built\n",
    "sf_bus = sf_bus[relevant_index]\n",
    "\n",
    "sf_bus.shape"
   ]
  },
  {
   "cell_type": "code",
   "execution_count": null,
   "metadata": {
    "collapsed": true
   },
   "outputs": [],
   "source": [
    "# Now, get the valid index of different types and combine them to get our clean data\n",
    "ca_index = raw_data.State == 'CA' # state needs to be CA\n",
    "\n",
    "sf_index = raw_data.City == 'San Francisco' # city needs to be San Francisco\n",
    "\n",
    "both_active_index = raw_data['Location End Date'].isnull() & raw_data['Business End Date'].isnull()\n",
    "# latitude belongs to [0,360], longtitude belongs to [-180,180]\n",
    "# any value out of these scope regarded as invalid\n",
    "valid_loc_index = (raw_data['latitude']>0) & (raw_data['longitude']>-180)\n",
    "\n",
    "\n",
    "# Get clean data set\n",
    "clean_data=raw_data[ca_index & sf_index & both_active_index & valid_loc_index]\n",
    "     "
   ]
  },
  {
   "cell_type": "markdown",
   "metadata": {},
   "source": [
    "> ## correlation"
   ]
  },
  {
   "cell_type": "code",
   "execution_count": null,
   "metadata": {
    "collapsed": true
   },
   "outputs": [],
   "source": [
    "- more visualized correlation table below"
   ]
  },
  {
   "cell_type": "code",
   "execution_count": null,
   "metadata": {
    "collapsed": true
   },
   "outputs": [],
   "source": [
    "columns = ['A','B','C']\n",
    "\n",
    "data[columns].corr(method='pearson').style.format(\"{:.2}\").background_gradient(cmap=plt.get_cmap('coolwarm'), axis=1)\n",
    "\n",
    "# correlation = np.corrcoef(basetable[\"A\"], basetable[\"B\"])[0,1]"
   ]
  },
  {
   "cell_type": "markdown",
   "metadata": {},
   "source": [
    "> ### print in color"
   ]
  },
  {
   "cell_type": "code",
   "execution_count": 3,
   "metadata": {},
   "outputs": [
    {
     "name": "stdout",
     "output_type": "stream",
     "text": [
      "\u001b[31mhello\u001b[0m \u001b[32mworld\u001b[0m\n",
      "\u001b[31mhello red world\u001b[0m\n"
     ]
    }
   ],
   "source": [
    "from termcolor import colored\n",
    "print colored('hello', 'red'), colored('world', 'green')\n",
    "print colored(\"hello red world\", 'red')"
   ]
  },
  {
   "cell_type": "code",
   "execution_count": 7,
   "metadata": {},
   "outputs": [
    {
     "name": "stdout",
     "output_type": "stream",
     "text": [
      "\u001b[31mhello\u001b[0m \u001b[32m23.4\u001b[0m\n",
      "\u001b[31mhello red world\u001b[0m\n"
     ]
    }
   ],
   "source": [
    "s = 23.4\n",
    "print colored('hello', 'red'), colored(s, 'green')\n",
    "print colored(\"hello red world\", 'red')"
   ]
  },
  {
   "cell_type": "code",
   "execution_count": null,
   "metadata": {
    "collapsed": true
   },
   "outputs": [],
   "source": []
  }
 ],
 "metadata": {
  "kernelspec": {
   "display_name": "Python 2",
   "language": "python",
   "name": "python2"
  },
  "language_info": {
   "codemirror_mode": {
    "name": "ipython",
    "version": 2
   },
   "file_extension": ".py",
   "mimetype": "text/x-python",
   "name": "python",
   "nbconvert_exporter": "python",
   "pygments_lexer": "ipython2",
   "version": "2.7.13"
  }
 },
 "nbformat": 4,
 "nbformat_minor": 2
}
