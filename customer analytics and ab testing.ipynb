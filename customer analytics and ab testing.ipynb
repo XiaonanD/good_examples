{
 "cells": [
  {
   "cell_type": "code",
   "execution_count": 1,
   "metadata": {
    "collapsed": true
   },
   "outputs": [],
   "source": [
    "import matplotlib.pyplot as plt\n",
    "import numpy as np\n",
    "import pandas as pd\n",
    "import seaborn as sns"
   ]
  },
  {
   "cell_type": "code",
   "execution_count": 2,
   "metadata": {},
   "outputs": [
    {
     "data": {
      "text/html": [
       "<div>\n",
       "<style>\n",
       "    .dataframe thead tr:only-child th {\n",
       "        text-align: right;\n",
       "    }\n",
       "\n",
       "    .dataframe thead th {\n",
       "        text-align: left;\n",
       "    }\n",
       "\n",
       "    .dataframe tbody tr th {\n",
       "        vertical-align: top;\n",
       "    }\n",
       "</style>\n",
       "<table border=\"1\" class=\"dataframe\">\n",
       "  <thead>\n",
       "    <tr style=\"text-align: right;\">\n",
       "      <th></th>\n",
       "      <th>total_bill</th>\n",
       "      <th>tip</th>\n",
       "      <th>sex</th>\n",
       "      <th>smoker</th>\n",
       "      <th>day</th>\n",
       "      <th>time</th>\n",
       "      <th>size</th>\n",
       "    </tr>\n",
       "  </thead>\n",
       "  <tbody>\n",
       "    <tr>\n",
       "      <th>0</th>\n",
       "      <td>16.99</td>\n",
       "      <td>1.01</td>\n",
       "      <td>Female</td>\n",
       "      <td>No</td>\n",
       "      <td>Sun</td>\n",
       "      <td>Dinner</td>\n",
       "      <td>2</td>\n",
       "    </tr>\n",
       "    <tr>\n",
       "      <th>1</th>\n",
       "      <td>10.34</td>\n",
       "      <td>1.66</td>\n",
       "      <td>Male</td>\n",
       "      <td>No</td>\n",
       "      <td>Sun</td>\n",
       "      <td>Dinner</td>\n",
       "      <td>3</td>\n",
       "    </tr>\n",
       "  </tbody>\n",
       "</table>\n",
       "</div>"
      ],
      "text/plain": [
       "   total_bill   tip     sex smoker  day    time  size\n",
       "0       16.99  1.01  Female     No  Sun  Dinner     2\n",
       "1       10.34  1.66    Male     No  Sun  Dinner     3"
      ]
     },
     "execution_count": 2,
     "metadata": {},
     "output_type": "execute_result"
    }
   ],
   "source": [
    "tips = sns.load_dataset('tips')\n",
    "tips.head(2)"
   ]
  },
  {
   "cell_type": "markdown",
   "metadata": {},
   "source": [
    "Customer Analytics & A/B Testing in Python\n",
    "- https://campus.datacamp.com/courses/customer-analytics-ab-testing-in-python/key-performance-indicators-measuring-business-success?ex=10"
   ]
  },
  {
   "cell_type": "markdown",
   "metadata": {},
   "source": [
    "#### 1. groupby method"
   ]
  },
  {
   "cell_type": "markdown",
   "metadata": {},
   "source": [
    "- data.groupby(by = ['id','device'], as_index = False, axis = 0 )['price'].mean()\n",
    "- more flexible method using agg\n",
    "   - data.groupby(by = ['id','device'], as_index = False, axis = 0 ).price.agg(['mean','median'])\n",
    "   - ab_test_results.groupby('group').agg({'uid':pd.Series.nunique}) \n",
    "   - full aggregation\n",
    "       - data.groupby(by = ['id','device'], as_index = False, axis = 0 ).agg(\n",
    "       {'price':['mean','min'],\n",
    "       'age':['median','max']}\n",
    "       )"
   ]
  },
  {
   "cell_type": "markdown",
   "metadata": {},
   "source": [
    "> custom aggregation"
   ]
  },
  {
   "cell_type": "code",
   "execution_count": 16,
   "metadata": {},
   "outputs": [
    {
     "data": {
      "text/html": [
       "<div>\n",
       "<style>\n",
       "    .dataframe thead tr:only-child th {\n",
       "        text-align: right;\n",
       "    }\n",
       "\n",
       "    .dataframe thead th {\n",
       "        text-align: left;\n",
       "    }\n",
       "\n",
       "    .dataframe tbody tr th {\n",
       "        vertical-align: top;\n",
       "    }\n",
       "</style>\n",
       "<table border=\"1\" class=\"dataframe\">\n",
       "  <thead>\n",
       "    <tr>\n",
       "      <th></th>\n",
       "      <th>sex</th>\n",
       "      <th>day</th>\n",
       "      <th>tip</th>\n",
       "    </tr>\n",
       "    <tr>\n",
       "      <th></th>\n",
       "      <th></th>\n",
       "      <th></th>\n",
       "      <th>truncate_mean</th>\n",
       "    </tr>\n",
       "  </thead>\n",
       "  <tbody>\n",
       "    <tr>\n",
       "      <th>0</th>\n",
       "      <td>Male</td>\n",
       "      <td>Thur</td>\n",
       "      <td>2.897600</td>\n",
       "    </tr>\n",
       "    <tr>\n",
       "      <th>1</th>\n",
       "      <td>Male</td>\n",
       "      <td>Fri</td>\n",
       "      <td>2.466667</td>\n",
       "    </tr>\n",
       "    <tr>\n",
       "      <th>2</th>\n",
       "      <td>Male</td>\n",
       "      <td>Sat</td>\n",
       "      <td>2.765957</td>\n",
       "    </tr>\n",
       "    <tr>\n",
       "      <th>3</th>\n",
       "      <td>Male</td>\n",
       "      <td>Sun</td>\n",
       "      <td>3.119348</td>\n",
       "    </tr>\n",
       "    <tr>\n",
       "      <th>4</th>\n",
       "      <td>Female</td>\n",
       "      <td>Thur</td>\n",
       "      <td>2.324615</td>\n",
       "    </tr>\n",
       "    <tr>\n",
       "      <th>5</th>\n",
       "      <td>Female</td>\n",
       "      <td>Fri</td>\n",
       "      <td>2.818571</td>\n",
       "    </tr>\n",
       "    <tr>\n",
       "      <th>6</th>\n",
       "      <td>Female</td>\n",
       "      <td>Sat</td>\n",
       "      <td>2.690000</td>\n",
       "    </tr>\n",
       "    <tr>\n",
       "      <th>7</th>\n",
       "      <td>Female</td>\n",
       "      <td>Sun</td>\n",
       "      <td>3.399286</td>\n",
       "    </tr>\n",
       "  </tbody>\n",
       "</table>\n",
       "</div>"
      ],
      "text/plain": [
       "      sex   day           tip\n",
       "                truncate_mean\n",
       "0    Male  Thur      2.897600\n",
       "1    Male   Fri      2.466667\n",
       "2    Male   Sat      2.765957\n",
       "3    Male   Sun      3.119348\n",
       "4  Female  Thur      2.324615\n",
       "5  Female   Fri      2.818571\n",
       "6  Female   Sat      2.690000\n",
       "7  Female   Sun      3.399286"
      ]
     },
     "execution_count": 16,
     "metadata": {},
     "output_type": "execute_result"
    }
   ],
   "source": [
    "# example truncating mean\n",
    "def truncate_mean(data):\n",
    "    top_val = data.quantile(0.9)\n",
    "    bottom_val = data.quantile(0.1)\n",
    "    trun_data = data[(data <= top_val)&(data >= bottom_val)]\n",
    "    return trun_data.mean()\n",
    "\n",
    "data = tips\n",
    "data_grp = data.groupby(by = ['sex','day'],  as_index = False,axis = 0 )\n",
    "## important ##\n",
    "final = data_grp.agg({'tip': [truncate_mean]})\n",
    "final"
   ]
  },
  {
   "cell_type": "markdown",
   "metadata": {},
   "source": [
    "the df.rename() function and refer the columns to be renamed. Not all the columns have to be renamed:\n",
    "\n",
    "df = df.rename(columns={'oldName1': 'newName1', 'oldName2': 'newName2'})\n",
    "- Or rename the existing DataFrame (rather than creating a copy) \n",
    "df.rename(columns={'oldName1': 'newName1', 'oldName2': 'newName2'}, inplace=True)\n"
   ]
  },
  {
   "cell_type": "code",
   "execution_count": 17,
   "metadata": {},
   "outputs": [
    {
     "data": {
      "text/html": [
       "<div>\n",
       "<style>\n",
       "    .dataframe thead tr:only-child th {\n",
       "        text-align: right;\n",
       "    }\n",
       "\n",
       "    .dataframe thead th {\n",
       "        text-align: left;\n",
       "    }\n",
       "\n",
       "    .dataframe tbody tr th {\n",
       "        vertical-align: top;\n",
       "    }\n",
       "</style>\n",
       "<table border=\"1\" class=\"dataframe\">\n",
       "  <thead>\n",
       "    <tr style=\"text-align: right;\">\n",
       "      <th></th>\n",
       "      <th>sex</th>\n",
       "      <th>day</th>\n",
       "      <th>truncate_mean_tip</th>\n",
       "    </tr>\n",
       "  </thead>\n",
       "  <tbody>\n",
       "    <tr>\n",
       "      <th>0</th>\n",
       "      <td>Male</td>\n",
       "      <td>Thur</td>\n",
       "      <td>2.897600</td>\n",
       "    </tr>\n",
       "    <tr>\n",
       "      <th>1</th>\n",
       "      <td>Male</td>\n",
       "      <td>Fri</td>\n",
       "      <td>2.466667</td>\n",
       "    </tr>\n",
       "    <tr>\n",
       "      <th>2</th>\n",
       "      <td>Male</td>\n",
       "      <td>Sat</td>\n",
       "      <td>2.765957</td>\n",
       "    </tr>\n",
       "    <tr>\n",
       "      <th>3</th>\n",
       "      <td>Male</td>\n",
       "      <td>Sun</td>\n",
       "      <td>3.119348</td>\n",
       "    </tr>\n",
       "    <tr>\n",
       "      <th>4</th>\n",
       "      <td>Female</td>\n",
       "      <td>Thur</td>\n",
       "      <td>2.324615</td>\n",
       "    </tr>\n",
       "    <tr>\n",
       "      <th>5</th>\n",
       "      <td>Female</td>\n",
       "      <td>Fri</td>\n",
       "      <td>2.818571</td>\n",
       "    </tr>\n",
       "    <tr>\n",
       "      <th>6</th>\n",
       "      <td>Female</td>\n",
       "      <td>Sat</td>\n",
       "      <td>2.690000</td>\n",
       "    </tr>\n",
       "    <tr>\n",
       "      <th>7</th>\n",
       "      <td>Female</td>\n",
       "      <td>Sun</td>\n",
       "      <td>3.399286</td>\n",
       "    </tr>\n",
       "  </tbody>\n",
       "</table>\n",
       "</div>"
      ],
      "text/plain": [
       "      sex   day  truncate_mean_tip\n",
       "0    Male  Thur           2.897600\n",
       "1    Male   Fri           2.466667\n",
       "2    Male   Sat           2.765957\n",
       "3    Male   Sun           3.119348\n",
       "4  Female  Thur           2.324615\n",
       "5  Female   Fri           2.818571\n",
       "6  Female   Sat           2.690000\n",
       "7  Female   Sun           3.399286"
      ]
     },
     "execution_count": 17,
     "metadata": {},
     "output_type": "execute_result"
    }
   ],
   "source": [
    "final.columns = final.columns.droplevel(level = 1) # remove truncate_mean name and only use tip\n",
    "final.rename(columns = {'tip':'truncate_mean_tip'}, inplace = True)\n",
    "final"
   ]
  },
  {
   "cell_type": "code",
   "execution_count": 11,
   "metadata": {},
   "outputs": [
    {
     "data": {
      "text/html": [
       "<div>\n",
       "<style>\n",
       "    .dataframe thead tr:only-child th {\n",
       "        text-align: right;\n",
       "    }\n",
       "\n",
       "    .dataframe thead th {\n",
       "        text-align: left;\n",
       "    }\n",
       "\n",
       "    .dataframe tbody tr th {\n",
       "        vertical-align: top;\n",
       "    }\n",
       "</style>\n",
       "<table border=\"1\" class=\"dataframe\">\n",
       "  <thead>\n",
       "    <tr style=\"text-align: right;\">\n",
       "      <th></th>\n",
       "      <th>total_bill</th>\n",
       "      <th>tip</th>\n",
       "    </tr>\n",
       "  </thead>\n",
       "  <tbody>\n",
       "    <tr>\n",
       "      <th>max</th>\n",
       "      <td>50.810000</td>\n",
       "      <td>NaN</td>\n",
       "    </tr>\n",
       "    <tr>\n",
       "      <th>mean</th>\n",
       "      <td>19.785943</td>\n",
       "      <td>2.998279</td>\n",
       "    </tr>\n",
       "    <tr>\n",
       "      <th>median</th>\n",
       "      <td>17.795000</td>\n",
       "      <td>2.900000</td>\n",
       "    </tr>\n",
       "  </tbody>\n",
       "</table>\n",
       "</div>"
      ],
      "text/plain": [
       "        total_bill       tip\n",
       "max      50.810000       NaN\n",
       "mean     19.785943  2.998279\n",
       "median   17.795000  2.900000"
      ]
     },
     "execution_count": 11,
     "metadata": {},
     "output_type": "execute_result"
    }
   ],
   "source": [
    "data.agg({'tip':['mean','median'],'total_bill':['mean','median','max']})"
   ]
  },
  {
   "cell_type": "markdown",
   "metadata": {},
   "source": [
    "### coversion rate\n",
    "![title](conversion.png)"
   ]
  },
  {
   "cell_type": "code",
   "execution_count": null,
   "metadata": {
    "collapsed": true
   },
   "outputs": [],
   "source": [
    "### 2. example of conversion rate: after trial end date within a selected window, to see how many people converted to a paid user\n",
    "\n",
    "##step1: filter data to remove immature data\n",
    "current_date = pd.to_datetime('2018-03-17')\n",
    "max_lapse_date = current_date - timedelta(days=7)\n",
    "conv_sub_data = sub_data_demo[(sub_data_demo.lapse_date < max_lapse_date)]\n",
    "\n",
    "#step2. get a new column to calcuate time interval between subscription and trial end date\n",
    "sub_time = np.where(conv_sub_data.subscription_date.notnull(),(conv_sub_data.subscription_date -conv_sub_data.lapse_date).dt.days,\n",
    "pd.NaT)\n",
    "conv_sub_data['sub_time'] = sub_time\n",
    "\n",
    "# get within 7 day converation rate\n",
    "def gcr7(data):\n",
    "    selected_data = data[data<= 7]\n",
    "    return 1.00* selected_data.count()/data.count()\n",
    "\n",
    "def gcr14(data):\n",
    "    selected_data = data[data<= 14]\n",
    "    return 1.00* selected_data.count()/data.count()\n",
    "\n",
    "conv_sub_data.groupby('sex').agg({'sub_time':[gcr7, gcr14]})\n",
    "conv_sub_data.columns = conv_sub_data.columns.droplevel(level=1)"
   ]
  },
  {
   "cell_type": "code",
   "execution_count": null,
   "metadata": {
    "collapsed": true
   },
   "outputs": [],
   "source": [
    "#another example: Find the month 1 values \n",
    "month1 = np.where((purchase_data.reg_date < max_reg_date) &\n",
    "                 (purchase_data.date <= purchase_data.reg_date + timedelta(days=28)),\n",
    "                 purchase_data.price, np.NaN)\n",
    "\n",
    "# Update the value in the DataFrame \n",
    "purchase_data['month1'] = month1\n",
    "# Group the data by gender and device \n",
    "purchase_data_upd = purchase_data.groupby(by=['gender', 'device'], as_index=False) \n",
    "\n",
    "# Aggregate the month1 and price data \n",
    "purchase_summary = purchase_data_upd.agg(\n",
    "                        {'month1': ['mean', 'median'],\n",
    "                        'price': ['mean', 'median']})\n",
    "\n",
    "# Examine the results \n",
    "print(purchase_summary)"
   ]
  },
  {
   "cell_type": "markdown",
   "metadata": {},
   "source": [
    "#### 2. Working with time series data in pandas\n",
    "   - some useful way to get date format when upload csv\n",
    "      - pd.read_csv(...\n",
    "                , parse_dates = False\n",
    "                , infer_datetime_format = False\n",
    "                , keep_date_col = False\n",
    "                , date_parser = None\n",
    "                , dayfirst = False\n",
    "                , ...)\n",
    "   - parse date manually\n",
    "       - date_data_one = pd.to_datetime(date_data_one, format=____)\n",
    "           - for example Saturday January 27, 2017\n",
    "           - date_data_one = pd.to_datetime(date_data_one, format=\"%A %B %d, %Y\")\n",
    "           - \"%Y %B %d %H:%M\""
   ]
  },
  {
   "cell_type": "code",
   "execution_count": null,
   "metadata": {
    "collapsed": true
   },
   "outputs": [],
   "source": [
    "# Find the average amount purchased per user per day\n",
    "user_purchases = user_purchases.groupby(by=['reg_date']).agg({'first_week_purchases': ['mean']})\n",
    "user_purchases.columns = user_purchases.columns.droplevel(level=1)\n",
    "user_purchases.reset_index(inplace=True)"
   ]
  },
  {
   "cell_type": "markdown",
   "metadata": {},
   "source": [
    "> remove seasonality: \n",
    "   - trailing average(rolling = 7)\n",
    "      - df.column.rolling(window = 7, center)\n",
    "   - exponential moving average\n",
    "      - df.column.ewm(span = 7)"
   ]
  },
  {
   "cell_type": "code",
   "execution_count": null,
   "metadata": {
    "collapsed": true
   },
   "outputs": [],
   "source": [
    "# below are examples to get \n",
    "# Compute 7_day_rev\n",
    "daily_revenue['7_day_rev'] = daily_revenue.revenue.rolling(window=7,center=False).mean()\n",
    "\n",
    "# Compute 28_day_rev\n",
    "daily_revenue['28_day_rev'] = daily_revenue.revenue.rolling(window=28,center=False).mean()\n",
    "    \n",
    "# Compute 365_day_rev\n",
    "daily_revenue['365_day_rev'] = daily_revenue.revenue.rolling(window=365,center=False).mean()\n",
    "    \n",
    "# Plot date, and revenue, along with the 3 rolling functions (in order)    \n",
    "daily_revenue.plot(x='date', y=['revenue', '7_day_rev', '28_day_rev', '365_day_rev', ])\n",
    "plt.show()"
   ]
  },
  {
   "cell_type": "code",
   "execution_count": null,
   "metadata": {
    "collapsed": true
   },
   "outputs": [],
   "source": [
    "Another example: plot"
   ]
  },
  {
   "cell_type": "code",
   "execution_count": 47,
   "metadata": {},
   "outputs": [
    {
     "data": {
      "text/html": [
       "<div>\n",
       "<style>\n",
       "    .dataframe thead tr:only-child th {\n",
       "        text-align: right;\n",
       "    }\n",
       "\n",
       "    .dataframe thead th {\n",
       "        text-align: left;\n",
       "    }\n",
       "\n",
       "    .dataframe tbody tr th {\n",
       "        vertical-align: top;\n",
       "    }\n",
       "</style>\n",
       "<table border=\"1\" class=\"dataframe\">\n",
       "  <thead>\n",
       "    <tr style=\"text-align: right;\">\n",
       "      <th></th>\n",
       "      <th>release_date</th>\n",
       "      <th>event</th>\n",
       "    </tr>\n",
       "  </thead>\n",
       "  <tbody>\n",
       "    <tr>\n",
       "      <th>0</th>\n",
       "      <td>2018-03-15</td>\n",
       "      <td>iOS</td>\n",
       "    </tr>\n",
       "    <tr>\n",
       "      <th>1</th>\n",
       "      <td>2018-03-17</td>\n",
       "      <td>android</td>\n",
       "    </tr>\n",
       "    <tr>\n",
       "      <th>2</th>\n",
       "      <td>2018-03-18</td>\n",
       "      <td>web</td>\n",
       "    </tr>\n",
       "    <tr>\n",
       "      <th>3</th>\n",
       "      <td>2018-03-25</td>\n",
       "      <td>android</td>\n",
       "    </tr>\n",
       "  </tbody>\n",
       "</table>\n",
       "</div>"
      ],
      "text/plain": [
       "  release_date    event\n",
       "0   2018-03-15      iOS\n",
       "1   2018-03-17  android\n",
       "2   2018-03-18      web\n",
       "3   2018-03-25  android"
      ]
     },
     "execution_count": 47,
     "metadata": {},
     "output_type": "execute_result"
    }
   ],
   "source": [
    "release = pd.read_csv('release.csv', delimiter= '\\t', parse_dates= True, infer_datetime_format = True)\n",
    "release.release_date = pd.to_datetime(release.release_date)\n",
    "release"
   ]
  },
  {
   "cell_type": "code",
   "execution_count": 60,
   "metadata": {},
   "outputs": [
    {
     "data": {
      "image/png": "[encoded data removed]",
      "text/plain": [
       "<matplotlib.figure.Figure at 0x11bb37750>"
      ]
     },
     "metadata": {},
     "output_type": "display_data"
    }
   ],
   "source": [
    "import datetime\n",
    "\n",
    "for (indx, val) in zip(release.index,release['event']):\n",
    "    if val == 'iOS':\n",
    "        plt.axvline(x=release.loc[indx].release_date, color='b', linestyle='--')\n",
    "    else:\n",
    "        plt.axvline(x=release.loc[indx].release_date, color='r', linestyle='--')\n",
    "\n",
    "datemin = release.release_date.min() - datetime.timedelta(days=2)\n",
    "datemax = release.release_date.max() + datetime.timedelta(days=3)\n",
    "plt.xlim(datemin,datemax )\n",
    "plt.xticks(rotation = 30)\n",
    "# plt.xticks(np.arange(min(x), max(x)+1, 3))\n",
    "plt.show()"
   ]
  },
  {
   "cell_type": "markdown",
   "metadata": {
    "collapsed": true
   },
   "source": [
    "#### 3. ab testing"
   ]
  },
  {
   "cell_type": "code",
   "execution_count": null,
   "metadata": {
    "collapsed": true
   },
   "outputs": [],
   "source": [
    "> below is a code to get p-value for a proportion ab test (use p_pool)"
   ]
  },
  {
   "cell_type": "code",
   "execution_count": 2,
   "metadata": {
    "collapsed": true
   },
   "outputs": [],
   "source": [
    "def get_pvalue(con_conv, test_conv,con_size, test_size):\n",
    "    lift = - abs(test_conv - con_conv)\n",
    "    scale_one = con_conv * (1 - con_conv) * (1 / con_size)\n",
    "    scale_two = test_conv * (1 - test_conv) * (1 / test_size)\n",
    "    ## get standard error below\n",
    "    scale_val = (scale_one + scale_two)**0.5\n",
    "    ## if it is two-side give 2*, if one-side, just stats.norm.cdf(lift, loc = 0, scale = scale_val )\n",
    "    p_value = 2 * stats.norm.cdf(lift, loc = 0, scale = scale_val )\n",
    "    return p_value"
   ]
  },
  {
   "cell_type": "code",
   "execution_count": null,
   "metadata": {
    "collapsed": true
   },
   "outputs": [],
   "source": [
    "# use p_pool t test method\n",
    "def get_pvalue(p1, p2 ,N1, N2):\n",
    "    diff = p2 - p1\n",
    "    p_pool = 1.00* (N1*p1 + N2*p2)/(N1+N2)\n",
    "    print ('p2 and p1 are: %.4f and %.4f' %(p2, p1))\n",
    "    ## get standard error below\n",
    "    SE = np.sqrt(p_pool* (1-p_pool) * (1.00/N1 + 1.00/N2))\n",
    "    \n",
    "    ## if it is two-side give 2*, if one-side, just stats.norm.cdf(lift, loc = 0, scale = scale_val )\n",
    "    Z_score = 1.00* diff/SE\n",
    "    print ('Z score is: %.3f' %Z_score)\n",
    "    p_value = 2* stats.norm.sf(abs(Z_score)) #one-sided by 2\n",
    "#     p_value = 2 * stats.norm.cdf(diff, loc = 0, scale = SE )\n",
    "    return p_value\n",
    "\n",
    "\n",
    "print ('use p_pool method')\n",
    "get_pvalue(p1,p2,N1,N2)"
   ]
  },
  {
   "cell_type": "code",
   "execution_count": 9,
   "metadata": {},
   "outputs": [
    {
     "data": {
      "text/plain": [
       "0.024997895148220435"
      ]
     },
     "execution_count": 9,
     "metadata": {},
     "output_type": "execute_result"
    }
   ],
   "source": [
    "from scipy import stats\n",
    "\n",
    "## use cdf to get z score\n",
    "stats.norm.ppf(0.975) ##get 1.96\n",
    "\n",
    "## use z score to get cdf\n",
    "stats.norm.sf(abs(1.96)) ## get cdf, in one-tail: 2.5%"
   ]
  },
  {
   "cell_type": "markdown",
   "metadata": {},
   "source": [
    "> Plotting the distribution using ab test results to plot mean distribution of each variant (confidence interval calculation)"
   ]
  },
  {
   "cell_type": "markdown",
   "metadata": {},
   "source": [
    "- 1. plot mean distributions of each variant (confidence interval)"
   ]
  },
  {
   "cell_type": "code",
   "execution_count": null,
   "metadata": {
    "collapsed": true
   },
   "outputs": [],
   "source": [
    "# Compute the standard deviations\n",
    "control_sd = cont_var**0.5\n",
    "test_sd = test_var**0.5\n",
    "\n",
    "# Create the range of x values \n",
    "control_line = np.linspace( cont_conv - 3 * control_sd, cont_conv + 3 * control_sd , 100)\n",
    "test_line = np.linspace( test_conv - 3 * test_sd,  test_conv + 3 * test_sd , 100)\n",
    "\n",
    "# Plot the distribution \n",
    "plt.plot(control_line, mlab.normpdf(control_line, cont_conv, control_sd ))\n",
    "plt.plot(test_line, mlab.normpdf(test_line,test_conv, test_sd))\n",
    "plt.show()"
   ]
  },
  {
   "cell_type": "markdown",
   "metadata": {},
   "source": [
    "- 2. plot difference: lets plot the difference distribution of our results that is, the distribution of our lift. (null hypothesis)"
   ]
  },
  {
   "cell_type": "code",
   "execution_count": null,
   "metadata": {
    "collapsed": true
   },
   "outputs": [],
   "source": [
    "# Find the lift mean and standard deviation\n",
    "lift_mean = test_conv - cont_conv\n",
    "p_pool = 1.00* (N1*p1 + N2*p2)/(N1+N2)\n",
    "SE = np.sqrt(p_pool* (1-p_pool) * (1.00/N1 + 1.00/N2))\n",
    "# lift_sd = (test_var + cont_var) ** 0.5\n",
    "\n",
    "# Generate the range of x-values\n",
    "lift_line = np.linspace(lift_mean - 3 * SE, lift_mean + 3 * SE, 100)\n",
    "\n",
    "# Plot the lift distribution\n",
    "plt.plot(lift_line, mlab.normpdf(lift_line, lift_mean, SE))\n",
    "\n",
    "# Add the annotation lines\n",
    "plt.axvline(x = lift_mean, color = 'green')\n",
    "# plt.axvline(x = lwr_ci, color = 'red')\n",
    "# plt.axvline(x = upr_ci, color = 'red')\n",
    "plt.show()"
   ]
  },
  {
   "cell_type": "code",
   "execution_count": null,
   "metadata": {
    "collapsed": true
   },
   "outputs": [],
   "source": []
  }
 ],
 "metadata": {
  "kernelspec": {
   "display_name": "Python 2",
   "language": "python",
   "name": "python2"
  },
  "language_info": {
   "codemirror_mode": {
    "name": "ipython",
    "version": 2
   },
   "file_extension": ".py",
   "mimetype": "text/x-python",
   "name": "python",
   "nbconvert_exporter": "python",
   "pygments_lexer": "ipython2",
   "version": "2.7.13"
  }
 },
 "nbformat": 4,
 "nbformat_minor": 2
}
